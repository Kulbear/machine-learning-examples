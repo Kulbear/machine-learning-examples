{
 "cells": [
  {
   "cell_type": "markdown",
   "metadata": {},
   "source": [
    "# Linear Regression with `scikit-learn`\n",
    "\n",
    "In this notebook, we will introduce how to use the Python package `scikit-learn` to perform a linear regression task."
   ]
  },
  {
   "cell_type": "code",
   "execution_count": 1,
   "metadata": {
    "collapsed": true
   },
   "outputs": [],
   "source": [
    "import warnings\n",
    "import numpy as np\n",
    "import pandas as pd\n",
    "from helper import display_data # This function help us to display the first 5 data points\n",
    "from sklearn import linear_model\n",
    "\n",
    "# This is used for ignoring a harmless warning from the *scipy* package\n",
    "warnings.filterwarnings(action=\"ignore\", module=\"scipy\", message=\"^internal gelsd\")"
   ]
  },
  {
   "cell_type": "markdown",
   "metadata": {},
   "source": [
    "## Load Data"
   ]
  },
  {
   "cell_type": "code",
   "execution_count": 2,
   "metadata": {},
   "outputs": [
    {
     "data": {
      "text/plain": [
       "array([[  2.10400000e+03,   3.00000000e+00,   3.99900000e+05],\n",
       "       [  1.60000000e+03,   3.00000000e+00,   3.29900000e+05],\n",
       "       [  2.40000000e+03,   3.00000000e+00,   3.69000000e+05],\n",
       "       [  1.41600000e+03,   2.00000000e+00,   2.32000000e+05],\n",
       "       [  3.00000000e+03,   4.00000000e+00,   5.39900000e+05]])"
      ]
     },
     "execution_count": 2,
     "metadata": {},
     "output_type": "execute_result"
    }
   ],
   "source": [
    "data = np.loadtxt('data/ex1data2.txt', delimiter=',')\n",
    "display_data(data)"
   ]
  },
  {
   "cell_type": "code",
   "execution_count": 3,
   "metadata": {},
   "outputs": [
    {
     "data": {
      "text/html": [
       "<div>\n",
       "<style>\n",
       "    .dataframe thead tr:only-child th {\n",
       "        text-align: right;\n",
       "    }\n",
       "\n",
       "    .dataframe thead th {\n",
       "        text-align: left;\n",
       "    }\n",
       "\n",
       "    .dataframe tbody tr th {\n",
       "        vertical-align: top;\n",
       "    }\n",
       "</style>\n",
       "<table border=\"1\" class=\"dataframe\">\n",
       "  <thead>\n",
       "    <tr style=\"text-align: right;\">\n",
       "      <th></th>\n",
       "      <th>Area</th>\n",
       "      <th># of Bedroom</th>\n",
       "      <th>Price</th>\n",
       "    </tr>\n",
       "  </thead>\n",
       "  <tbody>\n",
       "    <tr>\n",
       "      <th>0</th>\n",
       "      <td>2104.0</td>\n",
       "      <td>3.0</td>\n",
       "      <td>399900.0</td>\n",
       "    </tr>\n",
       "    <tr>\n",
       "      <th>1</th>\n",
       "      <td>1600.0</td>\n",
       "      <td>3.0</td>\n",
       "      <td>329900.0</td>\n",
       "    </tr>\n",
       "    <tr>\n",
       "      <th>2</th>\n",
       "      <td>2400.0</td>\n",
       "      <td>3.0</td>\n",
       "      <td>369000.0</td>\n",
       "    </tr>\n",
       "    <tr>\n",
       "      <th>3</th>\n",
       "      <td>1416.0</td>\n",
       "      <td>2.0</td>\n",
       "      <td>232000.0</td>\n",
       "    </tr>\n",
       "    <tr>\n",
       "      <th>4</th>\n",
       "      <td>3000.0</td>\n",
       "      <td>4.0</td>\n",
       "      <td>539900.0</td>\n",
       "    </tr>\n",
       "  </tbody>\n",
       "</table>\n",
       "</div>"
      ],
      "text/plain": [
       "     Area  # of Bedroom     Price\n",
       "0  2104.0           3.0  399900.0\n",
       "1  1600.0           3.0  329900.0\n",
       "2  2400.0           3.0  369000.0\n",
       "3  1416.0           2.0  232000.0\n",
       "4  3000.0           4.0  539900.0"
      ]
     },
     "execution_count": 3,
     "metadata": {},
     "output_type": "execute_result"
    }
   ],
   "source": [
    "# pandas can give us a better visualization on tabular data.\n",
    "df = pd.DataFrame(data, columns=['Area', '# of Bedroom', 'Price'])\n",
    "df.head() # will return the first 5 data points"
   ]
  },
  {
   "cell_type": "code",
   "execution_count": 4,
   "metadata": {},
   "outputs": [
    {
     "data": {
      "text/plain": [
       "array([[  2.10400000e+03,   3.00000000e+00],\n",
       "       [  1.60000000e+03,   3.00000000e+00],\n",
       "       [  2.40000000e+03,   3.00000000e+00],\n",
       "       [  1.41600000e+03,   2.00000000e+00],\n",
       "       [  3.00000000e+03,   4.00000000e+00]])"
      ]
     },
     "execution_count": 4,
     "metadata": {},
     "output_type": "execute_result"
    }
   ],
   "source": [
    "X = data[:,0:2]\n",
    "display_data(X)"
   ]
  },
  {
   "cell_type": "markdown",
   "metadata": {},
   "source": [
    "## Normalize Data\n",
    "\n",
    "In real world problems, there are a lot of feature engineering works needed to do. But since the dataset we used here is very simple, we will apply only a simple feature normalization technique (sometimes called **Standardization**).\n",
    "\n",
    "This is often a good preprocessing step to do when working with learning algorithms.\n",
    "\n",
    "The formula we used here (for each feature) is:\n",
    "\n",
    "$$x' = x-\\frac{\\bar{x}}{\\sigma}$$\n",
    "\n",
    "- **x' --> normalized x **\n",
    "- **x_bar --> mean value of x**\n",
    "- **sigma --> standard deviation**"
   ]
  },
  {
   "cell_type": "code",
   "execution_count": 5,
   "metadata": {
    "collapsed": true
   },
   "outputs": [],
   "source": [
    "def normalize(X):\n",
    "    \"\"\"Returns a normalized version of X where the mean value of each feature is 0 and the standard deviation is 1.\"\"\"\n",
    "    num_feature = X.shape[1]\n",
    "    \n",
    "    mu = np.zeros(num_feature)\n",
    "    sigma = np.zeros(num_feature)\n",
    "    X_norm = np.zeros(X.shape)\n",
    "\n",
    "    for i in range(0, num_feature):\n",
    "        mu[i] = np.mean(X[:,i])\n",
    "        sigma[i] = np.std(X[:,i])\n",
    "        X_norm[:,i] = (X[:,i] - mu[i]) / sigma[i]\n",
    "\n",
    "    return X_norm, mu, sigma"
   ]
  },
  {
   "cell_type": "code",
   "execution_count": 6,
   "metadata": {},
   "outputs": [
    {
     "data": {
      "text/plain": [
       "array([[ 0.13141542, -0.22609337],\n",
       "       [-0.5096407 , -0.22609337],\n",
       "       [ 0.5079087 , -0.22609337],\n",
       "       [-0.74367706, -1.5543919 ],\n",
       "       [ 1.27107075,  1.10220517]])"
      ]
     },
     "execution_count": 6,
     "metadata": {},
     "output_type": "execute_result"
    }
   ],
   "source": [
    "X_norm, mu, sigma = normalize(X)\n",
    "display_data(X_norm)"
   ]
  },
  {
   "cell_type": "code",
   "execution_count": 7,
   "metadata": {},
   "outputs": [
    {
     "data": {
      "text/plain": [
       "array([ 399900.,  329900.,  369000.,  232000.,  539900.])"
      ]
     },
     "execution_count": 7,
     "metadata": {},
     "output_type": "execute_result"
    }
   ],
   "source": [
    "y = data[:,2]\n",
    "display_data(y)"
   ]
  },
  {
   "cell_type": "markdown",
   "metadata": {},
   "source": [
    "## Linear Regression Models\n",
    "\n",
    "Here, we will compare two linear regression models with different settings. \n",
    "The first one will automatically normalize the input X, the second won't. We have done the feature normalization for the second model."
   ]
  },
  {
   "cell_type": "markdown",
   "metadata": {},
   "source": [
    "### Linear Regression Model with Original Data\n",
    "\n",
    "We will throw our original dataset **X** to the model directly and let the model handle the normalization for us."
   ]
  },
  {
   "cell_type": "code",
   "execution_count": 8,
   "metadata": {},
   "outputs": [
    {
     "data": {
      "text/plain": [
       "(array([  139.21067402, -8738.01911233]), 89597.909542797483)"
      ]
     },
     "execution_count": 8,
     "metadata": {},
     "output_type": "execute_result"
    }
   ],
   "source": [
    "lr1 = linear_model.LinearRegression()\n",
    "lr1.fit(X, y)\n",
    "lr1.coef_, lr1.intercept_"
   ]
  },
  {
   "cell_type": "markdown",
   "metadata": {},
   "source": [
    "The above result stands for\n",
    "\n",
    "$$\\hat{y} = 89597.909542797483 + 139.21067402\\cdot{x_{1}} - 8738.01911233\\cdot{x_{2}}$$\n",
    "\n",
    "- **y_hat --> hypothesis, prediction value**\n",
    "- **x1 --> nomalized area**\n",
    "- **x2 --> nomalized # of bedroom**"
   ]
  },
  {
   "cell_type": "code",
   "execution_count": 9,
   "metadata": {
    "collapsed": true
   },
   "outputs": [],
   "source": [
    "to_pred = np.array([1650, 3]).reshape((1, -1))"
   ]
  },
  {
   "cell_type": "code",
   "execution_count": 10,
   "metadata": {},
   "outputs": [
    {
     "data": {
      "text/plain": [
       "array([ 293081.4643349])"
      ]
     },
     "execution_count": 10,
     "metadata": {},
     "output_type": "execute_result"
    }
   ],
   "source": [
    "lr1.predict(to_pred)"
   ]
  },
  {
   "cell_type": "markdown",
   "metadata": {},
   "source": [
    "### Linear Regression Model with Nomalized Data\n",
    "\n",
    "We will throw our normalized dataset **X_norm** to the model."
   ]
  },
  {
   "cell_type": "code",
   "execution_count": 11,
   "metadata": {},
   "outputs": [
    {
     "data": {
      "text/plain": [
       "(array([ 109447.79646964,   -6578.35485416]), 340412.6595744681)"
      ]
     },
     "execution_count": 11,
     "metadata": {},
     "output_type": "execute_result"
    }
   ],
   "source": [
    "lr2 = linear_model.LinearRegression(normalize=False)\n",
    "lr2.fit(X_norm, y)\n",
    "lr2.coef_, lr2.intercept_"
   ]
  },
  {
   "cell_type": "markdown",
   "metadata": {},
   "source": [
    "The above result stands for\n",
    "\n",
    "$$\\hat{y} = 340412.6595744681 + 109447.79646964\\cdot{x_{1}} - 6578.35485416\\cdot{x_{2}}$$\n",
    "\n",
    "- **y_hat --> hypothesis, prediction value**\n",
    "- **x1 --> nomalized area**\n",
    "- **x2 --> nomalized # of bedroom**\n",
    "\n",
    "Therefore, when we use the model to make a new prediction, we need to normalize the input data first (as below)."
   ]
  },
  {
   "cell_type": "code",
   "execution_count": 12,
   "metadata": {
    "collapsed": true
   },
   "outputs": [],
   "source": [
    "to_pred = np.array([(1650 - mu[0]) / sigma[0], (3 - mu[1]) / sigma[1]]).reshape((1, -1))"
   ]
  },
  {
   "cell_type": "code",
   "execution_count": 13,
   "metadata": {},
   "outputs": [
    {
     "data": {
      "text/plain": [
       "array([ 293081.4643349])"
      ]
     },
     "execution_count": 13,
     "metadata": {},
     "output_type": "execute_result"
    }
   ],
   "source": [
    "lr2.predict(to_pred)"
   ]
  },
  {
   "cell_type": "markdown",
   "metadata": {},
   "source": [
    "### Comparation\n",
    "\n",
    "Though we have linear models with different coefficient values and different data input requirements, we can obtain the same result. This proves that our normalization is valid and correct."
   ]
  },
  {
   "cell_type": "markdown",
   "metadata": {},
   "source": [
    "## Reference\n",
    "\n",
    "[sklearn.linear_model.LinearRegression](http://scikit-learn.org/stable/modules/generated/sklearn.linear_model.LinearRegression.html)"
   ]
  },
  {
   "cell_type": "code",
   "execution_count": null,
   "metadata": {
    "collapsed": true
   },
   "outputs": [],
   "source": [
    ""
   ]
  }
 ],
 "metadata": {
  "kernelspec": {
   "display_name": "Python 3",
   "language": "python",
   "name": "python3"
  },
  "language_info": {
   "codemirror_mode": {
    "name": "ipython",
    "version": 3.0
   },
   "file_extension": ".py",
   "mimetype": "text/x-python",
   "name": "python",
   "nbconvert_exporter": "python",
   "pygments_lexer": "ipython3",
   "version": "3.5.3"
  }
 },
 "nbformat": 4,
 "nbformat_minor": 0
}